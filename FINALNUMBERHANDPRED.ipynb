{
  "cells": [
    {
      "cell_type": "markdown",
      "metadata": {
        "id": "view-in-github",
        "colab_type": "text"
      },
      "source": [
        "<a href=\"https://colab.research.google.com/github/Kart8ik/final-tech-trek-project/blob/main/FINALNUMBERHANDPRED.ipynb\" target=\"_parent\"><img src=\"https://colab.research.google.com/assets/colab-badge.svg\" alt=\"Open In Colab\"/></a>"
      ]
    },
    {
      "cell_type": "markdown",
      "metadata": {
        "id": "FzJiAfKHiMl5"
      },
      "source": [
        "## importing needed libraries"
      ]
    },
    {
      "cell_type": "code",
      "execution_count": 3,
      "metadata": {
        "id": "XQV79e19WYIJ"
      },
      "outputs": [],
      "source": [
        "import numpy as np\n",
        "import matplotlib.pyplot as plt\n",
        "from tensorflow.keras.models import Sequential\n",
        "from tensorflow.keras.layers import Flatten, Dense, Conv2D, MaxPooling2D,Dropout\n"
      ]
    },
    {
      "cell_type": "markdown",
      "source": [
        "## loading and understanding our dataset"
      ],
      "metadata": {
        "id": "odlxJEKuIhOu"
      }
    },
    {
      "cell_type": "code",
      "execution_count": 4,
      "metadata": {
        "colab": {
          "base_uri": "https://localhost:8080/",
          "height": 1000
        },
        "id": "XIuxlU9dYQk2",
        "outputId": "13c9d6b5-ad06-44be-e83a-2b0145d2a1b0"
      },
      "outputs": [
        {
          "output_type": "stream",
          "name": "stdout",
          "text": [
            "[[[0.46666667 0.4745098  0.47843137 ... 0.5176471  0.5137255  0.5019608 ]\n",
            "  [0.49803922 0.4862745  0.4862745  ... 0.5254902  0.5176471  0.50980395]\n",
            "  [0.54509807 0.49411765 0.49019608 ... 0.5294118  0.5254902  0.5137255 ]\n",
            "  ...\n",
            "  [0.5019608  0.5137255  0.5176471  ... 0.5529412  0.54509807 0.53333336]\n",
            "  [0.49803922 0.5058824  0.5137255  ... 0.54509807 0.53333336 0.52156866]\n",
            "  [0.49019608 0.49803922 0.5019608  ... 0.5294118  0.52156866 0.50980395]]\n",
            "\n",
            " [[0.59607846 0.60784316 0.61960787 ... 0.4627451  0.4509804  0.44313726]\n",
            "  [0.60784316 0.61960787 0.6313726  ... 0.4745098  0.4627451  0.4509804 ]\n",
            "  [0.6156863  0.627451   0.6431373  ... 0.4862745  0.4745098  0.4627451 ]\n",
            "  ...\n",
            "  [0.50980395 0.5176471  0.5254902  ... 0.40392157 0.39607844 0.3882353 ]\n",
            "  [0.5019608  0.50980395 0.5176471  ... 0.4        0.39215687 0.38431373]\n",
            "  [0.49411765 0.5058824  0.50980395 ... 0.3882353  0.38039216 0.37254903]]\n",
            "\n",
            " [[0.5882353  0.6039216  0.61960787 ... 0.53333336 0.5137255  0.5019608 ]\n",
            "  [0.5921569  0.6117647  0.6156863  ... 0.5411765  0.52156866 0.50980395]\n",
            "  [0.5882353  0.61960787 0.627451   ... 0.54901963 0.5294118  0.5137255 ]\n",
            "  ...\n",
            "  [0.4745098  0.4862745  0.49411765 ... 0.42745098 0.41960785 0.40784314]\n",
            "  [0.47058824 0.47843137 0.4862745  ... 0.41568628 0.4117647  0.4       ]\n",
            "  [0.45882353 0.47058824 0.47843137 ... 0.40392157 0.4        0.3882353 ]]\n",
            "\n",
            " ...\n",
            "\n",
            " [[0.5254902  0.54509807 0.5568628  ... 0.49803922 0.49019608 0.4862745 ]\n",
            "  [0.5372549  0.5529412  0.5686275  ... 0.5019608  0.49803922 0.49019608]\n",
            "  [0.54509807 0.5568628  0.57254905 ... 0.5058824  0.49803922 0.49019608]\n",
            "  ...\n",
            "  [0.5058824  0.50980395 0.5137255  ... 0.4862745  0.47843137 0.47058824]\n",
            "  [0.49411765 0.5058824  0.50980395 ... 0.47843137 0.47058824 0.4627451 ]\n",
            "  [0.48235294 0.49411765 0.5058824  ... 0.47058824 0.4627451  0.45490196]]\n",
            "\n",
            " [[0.5137255  0.5254902  0.5372549  ... 0.45490196 0.44705883 0.43529412]\n",
            "  [0.5176471  0.53333336 0.54901963 ... 0.46666667 0.45882353 0.44705883]\n",
            "  [0.5254902  0.5411765  0.56078434 ... 0.4745098  0.4627451  0.4509804 ]\n",
            "  ...\n",
            "  [0.53333336 0.5411765  0.5529412  ... 0.54509807 0.5372549  0.5294118 ]\n",
            "  [0.52156866 0.53333336 0.54509807 ... 0.5372549  0.5294118  0.52156866]\n",
            "  [0.5137255  0.5254902  0.5372549  ... 0.5294118  0.5254902  0.5137255 ]]\n",
            "\n",
            " [[0.92941177 0.9372549  0.9372549  ... 0.9647059  0.972549   0.972549  ]\n",
            "  [0.92941177 0.93333334 0.93333334 ... 0.95686275 0.9607843  0.9647059 ]\n",
            "  [0.93333334 0.93333334 0.93333334 ... 0.9490196  0.9490196  0.9529412 ]\n",
            "  ...\n",
            "  [0.76862746 0.76862746 0.77254903 ... 0.73333335 0.74509805 0.68235296]\n",
            "  [0.7647059  0.7647059  0.76862746 ... 0.7254902  0.7372549  0.6784314 ]\n",
            "  [0.75686276 0.75686276 0.7607843  ... 0.72156864 0.73333335 0.67058825]]]\n",
            "size: 8445952\n"
          ]
        },
        {
          "output_type": "display_data",
          "data": {
            "text/plain": [
              "<Figure size 640x480 with 1 Axes>"
            ],
            "image/png": "[encoded data removed]"
          },
          "metadata": {}
        },
        {
          "output_type": "stream",
          "name": "stdout",
          "text": [
            "[0. 0. 0. 1. 0. 0. 0. 0. 0. 0.]\n",
            "ysize: 20620\n"
          ]
        }
      ],
      "source": [
        "Xdataset=np.load('X.npy')\n",
        "print(Xdataset)\n",
        "print(\"size:\",Xdataset.size)\n",
        "\n",
        "import matplotlib.pyplot as plt\n",
        "x1=Xdataset[800]\n",
        "# Display the grayscale image\n",
        "# Read the image\n",
        "\n",
        "plt.imshow(x1,cmap='gray')\n",
        "plt.axis(\"off\")\n",
        "plt.show()\n",
        "Ydataset=np.load('Y.npy')\n",
        "print(Ydataset[800])\n",
        "print(\"ysize:\",Ydataset.size)"
      ]
    },
    {
      "cell_type": "markdown",
      "metadata": {
        "id": "O6hYSM0kwfGd"
      },
      "source": [
        "## preprocessing our dataset"
      ]
    },
    {
      "cell_type": "code",
      "execution_count": 5,
      "metadata": {
        "colab": {
          "base_uri": "https://localhost:8080/"
        },
        "id": "7mlYHxVEiLiP",
        "outputId": "73b8b31a-0c69-47f1-b097-521e3a272836"
      },
      "outputs": [
        {
          "output_type": "stream",
          "name": "stdout",
          "text": [
            "[[0.46666667]\n",
            " [0.4745098 ]\n",
            " [0.47843137]\n",
            " [0.48235294]\n",
            " [0.4862745 ]\n",
            " [0.49019608]\n",
            " [0.49411765]\n",
            " [0.49411765]\n",
            " [0.5058824 ]\n",
            " [0.5137255 ]\n",
            " [0.5254902 ]\n",
            " [0.5372549 ]\n",
            " [0.54901963]\n",
            " [0.5647059 ]\n",
            " [0.58431375]\n",
            " [0.6       ]\n",
            " [0.6156863 ]\n",
            " [0.6313726 ]\n",
            " [0.6509804 ]\n",
            " [0.6666667 ]\n",
            " [0.6784314 ]\n",
            " [0.6901961 ]\n",
            " [0.69803923]\n",
            " [0.7137255 ]\n",
            " [0.7254902 ]\n",
            " [0.7294118 ]\n",
            " [0.7411765 ]\n",
            " [0.7490196 ]\n",
            " [0.7490196 ]\n",
            " [0.7529412 ]\n",
            " [0.7490196 ]\n",
            " [0.7490196 ]\n",
            " [0.7490196 ]\n",
            " [0.74509805]\n",
            " [0.7411765 ]\n",
            " [0.73333335]\n",
            " [0.7254902 ]\n",
            " [0.72156864]\n",
            " [0.7137255 ]\n",
            " [0.7058824 ]\n",
            " [0.69411767]\n",
            " [0.6862745 ]\n",
            " [0.6745098 ]\n",
            " [0.6627451 ]\n",
            " [0.6509804 ]\n",
            " [0.6392157 ]\n",
            " [0.6313726 ]\n",
            " [0.62352943]\n",
            " [0.62352943]\n",
            " [0.6156863 ]\n",
            " [0.60784316]\n",
            " [0.59607846]\n",
            " [0.5882353 ]\n",
            " [0.5764706 ]\n",
            " [0.5647059 ]\n",
            " [0.5568628 ]\n",
            " [0.54509807]\n",
            " [0.5411765 ]\n",
            " [0.5372549 ]\n",
            " [0.53333336]\n",
            " [0.52156866]\n",
            " [0.5176471 ]\n",
            " [0.5137255 ]\n",
            " [0.5019608 ]]\n"
          ]
        }
      ],
      "source": [
        "Xdataset2 = Xdataset.reshape(Xdataset.shape[0],64,64, 1) # scaling and normalization\n",
        "print(Xdataset2[0][0])"
      ]
    },
    {
      "cell_type": "markdown",
      "source": [
        "## splitting our testing and training datasets"
      ],
      "metadata": {
        "id": "UCp-sK8uIZaW"
      }
    },
    {
      "cell_type": "code",
      "execution_count": 6,
      "metadata": {
        "id": "HzHUeccKxfqC"
      },
      "outputs": [],
      "source": [
        "from sklearn.model_selection import train_test_split\n",
        "X_train, X_test, y_train, y_test = train_test_split(Xdataset, Ydataset , test_size = 0.25, random_state = 0)"
      ]
    },
    {
      "cell_type": "markdown",
      "source": [
        "## creating and initialising the layers of our CNN model"
      ],
      "metadata": {
        "id": "LOXkUn2IISe8"
      }
    },
    {
      "cell_type": "markdown",
      "source": [
        "* we use a sequential CNN model as it works well for models with\n",
        "small to medium level complexity like our model.\n",
        "\n",
        "* it allows us to use layers in a linear  manner making it easy to understand the flow of the model.\n",
        "\n",
        "* we use convolution,pooling,flatten and dropout layers, dense layers\n",
        "\n",
        "* convoluting layers apply a certain filter to either blur,sharpen or detect edges of an image based on the data.\n",
        "\n",
        "* pooling layers reduce dimensions of an image without losing too much important information.\n",
        "\n",
        "* dropout layers are used to deactivate certain neurons when the model starts overfitting to prevent it.\n",
        "\n",
        "* flatten layer turns its input image in amtrix form into a single dimensional array making it easy to feed into the next layers.\n",
        "\n",
        "*dense layers are the fully connected layers with all neurons from previous layers connected to perform calculations and learn complex relations in the data."
      ],
      "metadata": {
        "id": "O0UUHszwhiwv"
      }
    },
    {
      "cell_type": "code",
      "execution_count": 25,
      "metadata": {
        "colab": {
          "base_uri": "https://localhost:8080/"
        },
        "id": "92lfQ6NRwo-8",
        "outputId": "e166956c-1108-4537-94af-e874ffa122c4"
      },
      "outputs": [
        {
          "output_type": "stream",
          "name": "stdout",
          "text": [
            "Model: \"sequential_3\"\n",
            "_________________________________________________________________\n",
            " Layer (type)                Output Shape              Param #   \n",
            "=================================================================\n",
            " conv2d_6 (Conv2D)           (None, 62, 62, 32)        320       \n",
            "                                                                 \n",
            " max_pooling2d_6 (MaxPoolin  (None, 31, 31, 32)        0         \n",
            " g2D)                                                            \n",
            "                                                                 \n",
            " dropout_9 (Dropout)         (None, 31, 31, 32)        0         \n",
            "                                                                 \n",
            " conv2d_7 (Conv2D)           (None, 29, 29, 64)        18496     \n",
            "                                                                 \n",
            " max_pooling2d_7 (MaxPoolin  (None, 14, 14, 64)        0         \n",
            " g2D)                                                            \n",
            "                                                                 \n",
            " dropout_10 (Dropout)        (None, 14, 14, 64)        0         \n",
            "                                                                 \n",
            " flatten_3 (Flatten)         (None, 12544)             0         \n",
            "                                                                 \n",
            " dense_6 (Dense)             (None, 256)               3211520   \n",
            "                                                                 \n",
            " dropout_11 (Dropout)        (None, 256)               0         \n",
            "                                                                 \n",
            " dense_7 (Dense)             (None, 10)                2570      \n",
            "                                                                 \n",
            "=================================================================\n",
            "Total params: 3232906 (12.33 MB)\n",
            "Trainable params: 3232906 (12.33 MB)\n",
            "Non-trainable params: 0 (0.00 Byte)\n",
            "_________________________________________________________________\n"
          ]
        }
      ],
      "source": [
        "model = Sequential()\n",
        "model.add(Conv2D(32, kernel_size=(3, 3), activation='relu', input_shape=(64, 64, 1)))\n",
        "model.add(MaxPooling2D(pool_size=(2, 2)))\n",
        "model.add(Dropout(0.25))  # Add dropout with a dropout rate of 0.25\n",
        "model.add(Conv2D(64, kernel_size=(3, 3), activation='relu'))\n",
        "model.add(MaxPooling2D(pool_size=(2, 2)))\n",
        "model.add(Dropout(0.25))  # Add dropout with a dropout rate of 0.25\n",
        "model.add(Flatten())\n",
        "model.add(Dense(256, activation='relu'))\n",
        "model.add(Dropout(0.5))   # Add dropout with a dropout rate of 0.5\n",
        "model.add(Dense(10, activation='softmax'))\n",
        "\n",
        "model.summary()"
      ]
    },
    {
      "cell_type": "code",
      "execution_count": 26,
      "metadata": {
        "id": "rtNLXrYowox1"
      },
      "outputs": [],
      "source": [
        "model.compile(loss='categorical_crossentropy', optimizer='adam', metrics=['accuracy'])"
      ]
    },
    {
      "cell_type": "markdown",
      "metadata": {
        "id": "4Du6TkDlMzeK"
      },
      "source": [
        "we use various values for epochs and batch size to dial in the best accuracy possible.\n"
      ]
    },
    {
      "cell_type": "markdown",
      "source": [
        "## fitting the model with our training data"
      ],
      "metadata": {
        "id": "kYZpJo3WIMuv"
      }
    },
    {
      "cell_type": "code",
      "execution_count": 42,
      "metadata": {
        "colab": {
          "base_uri": "https://localhost:8080/"
        },
        "id": "2LAMtJQuwodG",
        "outputId": "499e001d-d620-4fec-e0d8-be3952f7fc29"
      },
      "outputs": [
        {
          "output_type": "stream",
          "name": "stdout",
          "text": [
            "Epoch 1/20\n",
            "25/25 [==============================] - 9s 360ms/step - loss: 0.0158 - accuracy: 0.9948 - val_loss: 0.3430 - val_accuracy: 0.9341\n",
            "Epoch 2/20\n",
            "25/25 [==============================] - 9s 349ms/step - loss: 0.0202 - accuracy: 0.9929 - val_loss: 0.3699 - val_accuracy: 0.9322\n",
            "Epoch 3/20\n",
            "25/25 [==============================] - 8s 310ms/step - loss: 0.0134 - accuracy: 0.9955 - val_loss: 0.3765 - val_accuracy: 0.9380\n",
            "Epoch 4/20\n",
            "25/25 [==============================] - 9s 354ms/step - loss: 0.0165 - accuracy: 0.9948 - val_loss: 0.3638 - val_accuracy: 0.9399\n",
            "Epoch 5/20\n",
            "25/25 [==============================] - 9s 348ms/step - loss: 0.0187 - accuracy: 0.9935 - val_loss: 0.3389 - val_accuracy: 0.9360\n",
            "Epoch 6/20\n",
            "25/25 [==============================] - 8s 310ms/step - loss: 0.0198 - accuracy: 0.9935 - val_loss: 0.3417 - val_accuracy: 0.9360\n",
            "Epoch 7/20\n",
            "25/25 [==============================] - 9s 347ms/step - loss: 0.0148 - accuracy: 0.9961 - val_loss: 0.3461 - val_accuracy: 0.9419\n",
            "Epoch 8/20\n",
            "25/25 [==============================] - 9s 348ms/step - loss: 0.0155 - accuracy: 0.9942 - val_loss: 0.3418 - val_accuracy: 0.9399\n",
            "Epoch 9/20\n",
            "25/25 [==============================] - 8s 306ms/step - loss: 0.0144 - accuracy: 0.9955 - val_loss: 0.3292 - val_accuracy: 0.9457\n",
            "Epoch 10/20\n",
            "25/25 [==============================] - 9s 344ms/step - loss: 0.0118 - accuracy: 0.9955 - val_loss: 0.3222 - val_accuracy: 0.9399\n",
            "Epoch 11/20\n",
            "25/25 [==============================] - 9s 350ms/step - loss: 0.0082 - accuracy: 0.9981 - val_loss: 0.3631 - val_accuracy: 0.9399\n",
            "Epoch 12/20\n",
            "25/25 [==============================] - 8s 309ms/step - loss: 0.0164 - accuracy: 0.9935 - val_loss: 0.3905 - val_accuracy: 0.9360\n",
            "Epoch 13/20\n",
            "25/25 [==============================] - 9s 351ms/step - loss: 0.0145 - accuracy: 0.9955 - val_loss: 0.3934 - val_accuracy: 0.9264\n",
            "Epoch 14/20\n",
            "25/25 [==============================] - 9s 347ms/step - loss: 0.0151 - accuracy: 0.9942 - val_loss: 0.4078 - val_accuracy: 0.9225\n",
            "Epoch 15/20\n",
            "25/25 [==============================] - 8s 304ms/step - loss: 0.0213 - accuracy: 0.9922 - val_loss: 0.3274 - val_accuracy: 0.9380\n",
            "Epoch 16/20\n",
            "25/25 [==============================] - 9s 348ms/step - loss: 0.0137 - accuracy: 0.9948 - val_loss: 0.3612 - val_accuracy: 0.9341\n",
            "Epoch 17/20\n",
            "25/25 [==============================] - 9s 365ms/step - loss: 0.0087 - accuracy: 0.9981 - val_loss: 0.3945 - val_accuracy: 0.9380\n",
            "Epoch 18/20\n",
            "25/25 [==============================] - 8s 308ms/step - loss: 0.0173 - accuracy: 0.9948 - val_loss: 0.3665 - val_accuracy: 0.9438\n",
            "Epoch 19/20\n",
            "25/25 [==============================] - 9s 353ms/step - loss: 0.0215 - accuracy: 0.9916 - val_loss: 0.3962 - val_accuracy: 0.9302\n",
            "Epoch 20/20\n",
            "25/25 [==============================] - 9s 357ms/step - loss: 0.0147 - accuracy: 0.9955 - val_loss: 0.3404 - val_accuracy: 0.9341\n"
          ]
        },
        {
          "output_type": "execute_result",
          "data": {
            "text/plain": [
              "<keras.src.callbacks.History at 0x7bb256e57be0>"
            ]
          },
          "metadata": {},
          "execution_count": 42
        }
      ],
      "source": [
        "model.fit(X_train, y_train, epochs=20, batch_size=64, validation_data=(X_test, y_test))"
      ]
    },
    {
      "cell_type": "markdown",
      "source": [
        "## testing the accuracy of the model"
      ],
      "metadata": {
        "id": "v8ey81z_IHcz"
      }
    },
    {
      "cell_type": "code",
      "execution_count": 43,
      "metadata": {
        "colab": {
          "base_uri": "https://localhost:8080/"
        },
        "id": "12syvx1Vyq8U",
        "outputId": "f0ab040d-6cab-440c-8a6f-be768df7f9c9"
      },
      "outputs": [
        {
          "output_type": "stream",
          "name": "stdout",
          "text": [
            "Test loss: 0.34044039249420166\n",
            "Test accuracy: 0.934108555316925\n"
          ]
        }
      ],
      "source": [
        "score = model.evaluate(X_test, y_test, verbose=0)\n",
        "print('Test loss:', score[0])\n",
        "print('Test accuracy:', score[1])"
      ]
    },
    {
      "cell_type": "markdown",
      "source": [
        "we evaluate the performance of the model using accuracy as its a important metric."
      ],
      "metadata": {
        "id": "UEJVa4OOhXlC"
      }
    }
  ],
  "metadata": {
    "colab": {
      "provenance": [],
      "authorship_tag": "ABX9TyP3kDap8TQGdQuZ0+aPz2PW",
      "include_colab_link": true
    },
    "kernelspec": {
      "display_name": "Python 3",
      "name": "python3"
    },
    "language_info": {
      "name": "python"
    }
  },
  "nbformat": 4,
  "nbformat_minor": 0
}